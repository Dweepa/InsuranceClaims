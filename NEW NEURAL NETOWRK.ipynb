{
 "cells": [
  {
   "cell_type": "code",
   "execution_count": 1,
   "metadata": {},
   "outputs": [
    {
     "name": "stderr",
     "output_type": "stream",
     "text": [
      "C:\\Users\\Dell\\Anaconda3\\lib\\site-packages\\gensim\\utils.py:1197: UserWarning: detected Windows; aliasing chunkize to chunkize_serial\n",
      "  warnings.warn(\"detected Windows; aliasing chunkize to chunkize_serial\")\n",
      "C:\\Users\\Dell\\Anaconda3\\lib\\site-packages\\h5py\\__init__.py:36: FutureWarning: Conversion of the second argument of issubdtype from `float` to `np.floating` is deprecated. In future, it will be treated as `np.float64 == np.dtype(float).type`.\n",
      "  from ._conv import register_converters as _register_converters\n",
      "Using TensorFlow backend.\n"
     ]
    }
   ],
   "source": [
    "import pandas as pd\n",
    "import numpy as np\n",
    "import seaborn as sns\n",
    "import matplotlib.pyplot as plt\n",
    "from sklearn.feature_extraction import DictVectorizer\n",
    "from sklearn.feature_extraction.text import TfidfVectorizer\n",
    "from sklearn import svm,tree\n",
    "from sklearn.linear_model import LinearRegression\n",
    "from sklearn.model_selection import train_test_split\n",
    "from sklearn.preprocessing import Imputer,scale,LabelEncoder, OneHotEncoder\n",
    "from gensim.models import Word2Vec\n",
    "from sklearn.metrics import r2_score,mean_squared_error, explained_variance_score, accuracy_score\n",
    "from scipy import sparse\n",
    "from scipy.sparse import hstack,vstack\n",
    "import math\n",
    "# Deep Learning \n",
    "import tensorflow as tf\n",
    "import keras\n",
    "from keras.models import Sequential\n",
    "from keras.layers import Dense,LSTM,Dropout, Activation\n",
    "from keras.optimizers import SGD\n",
    "from keras.wrappers.scikit_learn import KerasRegressor\n",
    "from sklearn.model_selection import cross_val_score\n",
    "from sklearn.model_selection import KFold\n",
    "from sklearn.pipeline import Pipeline"
   ]
  },
  {
   "cell_type": "code",
   "execution_count": 2,
   "metadata": {},
   "outputs": [],
   "source": [
    "df = pd.read_csv('Claims2.csv',encoding='mac_roman', low_memory=False)"
   ]
  },
  {
   "cell_type": "markdown",
   "metadata": {},
   "source": [
    "# Idekw2d"
   ]
  },
  {
   "cell_type": "code",
   "execution_count": 3,
   "metadata": {},
   "outputs": [],
   "source": [
    "def plot_corr(df,size=20):\n",
    "    corr = df.corr()\n",
    "    fig, ax = plt.subplots(figsize=(size, size))\n",
    "    b=ax.matshow(corr)\n",
    "    fig.colorbar(b)\n",
    "    ax.grid(which='minor',color='w', linestyle='-', linewidth=2)\n",
    "    plt.xticks(range(len(corr.columns)), corr.columns)\n",
    "    plt.yticks(range(len(corr.columns)), corr.columns)\n",
    "    plt.show()\n",
    "    a=sns.heatmap(corr, xticklabels=corr.columns.values,yticklabels=corr.columns.values, linewidth=0.5)"
   ]
  },
  {
   "cell_type": "code",
   "execution_count": 4,
   "metadata": {},
   "outputs": [
    {
     "data": {
      "text/plain": [
       "OCCURRENCE       0\n",
       "LOSSDATE         0\n",
       "LOB              0\n",
       "COVERAGE         0\n",
       "STATE            0\n",
       "DESCR           26\n",
       "CADDR1        2838\n",
       "CSTATE         249\n",
       "CZIP          4948\n",
       "LOCNM          185\n",
       "IZIP            67\n",
       "DRIVERAGE        0\n",
       "INCURRED         0\n",
       "PREMIUM       7863\n",
       "TOTALPAID        0\n",
       "dtype: int64"
      ]
     },
     "execution_count": 4,
     "metadata": {},
     "output_type": "execute_result"
    }
   ],
   "source": [
    "df.isnull().sum()"
   ]
  },
  {
   "cell_type": "markdown",
   "metadata": {},
   "source": [
    "# idekw2d - part 2"
   ]
  },
  {
   "cell_type": "code",
   "execution_count": 5,
   "metadata": {},
   "outputs": [
    {
     "data": {
      "text/plain": [
       "CLMNO               0\n",
       "OCCURRENCE          0\n",
       "CLNTNO              0\n",
       "CARRIERCLMNO     6546\n",
       "ADJUSTER           91\n",
       "LOSSDATE            0\n",
       "STATUS              0\n",
       "OPENDATE            0\n",
       "CLOSEDATE         111\n",
       "REOPENDATE      18460\n",
       "LOB                 0\n",
       "COVERAGE            0\n",
       "STATE               0\n",
       "DESCR              26\n",
       "DESCR2          18018\n",
       "INJURIES        13376\n",
       "CAUSE           13861\n",
       "ANATOMY             0\n",
       "IPOLNO              0\n",
       "IEFFDT              0\n",
       "IEXPDT              0\n",
       "CLAIMANT            0\n",
       "CSSNUM              0\n",
       "CADDR1           2838\n",
       "CADDR2          19213\n",
       "CCITY            4188\n",
       "CSTATE            249\n",
       "CZIP             4948\n",
       "CPHONE          11426\n",
       "CWORKPHONE      17490\n",
       "CGENDER           318\n",
       "LOCDESC          1430\n",
       "LOC                 0\n",
       "LOCTXTCODE        185\n",
       "LOCNM             185\n",
       "LOCNM2            201\n",
       "LOCCITY           214\n",
       "LOCSTATE          214\n",
       "LOCZIP            252\n",
       "DIVNUM              0\n",
       "INAME               0\n",
       "IADDR1             16\n",
       "IADDR2          19909\n",
       "ICITY              29\n",
       "ISTATE              0\n",
       "IZIP               67\n",
       "VINNO            8209\n",
       "AUTOMAKE         8208\n",
       "VEHYEAR             0\n",
       "DRIVERNAME       9129\n",
       "DRIVERAGE           0\n",
       "LICENSENO        8326\n",
       "LICSTATE         8313\n",
       "INDPAID             0\n",
       "MEDPAID             0\n",
       "EXPPAID             0\n",
       "YORKPAID            0\n",
       "TOTALPAID           0\n",
       "RECOVERIES          0\n",
       "INCURRED            0\n",
       "dtype: int64"
      ]
     },
     "execution_count": 5,
     "metadata": {},
     "output_type": "execute_result"
    }
   ],
   "source": [
    "df1 = pd.read_csv('Claims.csv',encoding='mac_roman', low_memory=False)\n",
    "columns_to_be_dropped =['PLATE','PLATESTATE','EMPLSTATUS','EMPLSTATUSDESC','EMPLSTATUS_NCCI','DOB','DATEOFHIRE','NCCI_NOI','NCCI_SOI','NCCI_SEV','JOBCODE','JOBTITLE','CLASSCODE','CLASSCODE_DESCR','IPHONE','IWORKPHONE','LNAME','LTAXID','LADDR1','LADDR2','LCITY','LSTATE','LZIP','LPHONE','LFAX','DNAME','DTAXID','DADDR1','DADDR2','DCITY','DSTATE','DZIP','DPHONE','DFAX','CLASSCODE','CLASSCODE_DESCR','DATEINITIA','DATERETURN','DATEREPORT','WEEKLYWAGE','DIVTXTCODE','INSUIT','DEFENSECOUNSEL','SUITRECEIVED','APPARENTSERVICEDATE','SUITASSIGNED','STIPDATE','DCTAXID','DCCONTACT','DCADDR1','DCADDR2','DCCITY','DCSTATE','DCZIP','DCPHONE','DCFAX','ISSNUM',\n",
    "'CLIENTSCLMNO','THIRDNUM','MARITAL','INDRESERVES','MEDRESERVES','EXPRESERVES','TOTALRESERVES','PHP_1st_Deducible_Notice','PHP_AMSLocs','PHP_Baileys_Custom_Location','PHP_Corrigan_Location','PHP_Daryl_Flood_Locs','PHP_Date_of_Expected_Denial','PHP_Date_of_Recovery','PHP_Deductible_Explanation','PHP_Deductible_Verifies?','PHP_Employee_Theft','PHP_Hazen_CC#','PHP_Mysterious_Disappearance','NET_INDEMNITY_RESERVE','NET_EXPENSE_RESERVE','PHP_Order_Number','PHP_Owner_Retained_Salvage_Amount','PHP_Cause_Code','PHP_Ref._to_Carrier_for_Recovery','PHP_Salvage','PHP_TF_Final_Mile_Branch_Code','PHP_TF/Final_Mile_Contractor','PHP_UST_Branch_Code','PHP_Van_Line','PHP_Voluntary_Payment']\n",
    "df1.drop(columns=columns_to_be_dropped, inplace=True)\n",
    "df1.isnull().sum()"
   ]
  },
  {
   "cell_type": "code",
   "execution_count": 6,
   "metadata": {},
   "outputs": [
    {
     "data": {
      "text/plain": [
       "0                                     NaN\n",
       "1                                     NaN\n",
       "2                                     NaN\n",
       "3                                     NaN\n",
       "4                                  DAMAGE\n",
       "5                                     NaN\n",
       "6                                     NaN\n",
       "7                                     NaN\n",
       "8         THAT PIERCED A PIPE IN THE WALL\n",
       "9                                     NaN\n",
       "10                                    NaN\n",
       "11                                    NaN\n",
       "12                                    NaN\n",
       "13                                    NaN\n",
       "14                                    NaN\n",
       "15                                    NaN\n",
       "16                                    NaN\n",
       "17                                    NaN\n",
       "18                                    NaN\n",
       "19                                    NaN\n",
       "20                                    NaN\n",
       "21                                NG MOVE\n",
       "22                                    NaN\n",
       "23                                    NaN\n",
       "24                                    NaN\n",
       "25                                    NaN\n",
       "26                                    NaN\n",
       "27                                    NaN\n",
       "28                                    NaN\n",
       "29                                    NaN\n",
       "                       ...               \n",
       "20064                                 NaN\n",
       "20065                                 NaN\n",
       "20066                                 NaN\n",
       "20067                                 NaN\n",
       "20068                                 NaN\n",
       "20069                                 NaN\n",
       "20070                                 NaN\n",
       "20071                                 NaN\n",
       "20072                                 NaN\n",
       "20073                                 NaN\n",
       "20074                                 NaN\n",
       "20075                                 NaN\n",
       "20076                                 NaN\n",
       "20077                                 NaN\n",
       "20078                                 NaN\n",
       "20079                                 NaN\n",
       "20080                                 NaN\n",
       "20081                                 NaN\n",
       "20082                                 NaN\n",
       "20083                                 NaN\n",
       "20084                                 NaN\n",
       "20085                                 NaN\n",
       "20086                                 NaN\n",
       "20087                                 NaN\n",
       "20088                                 NaN\n",
       "20089                                 NaN\n",
       "20090                                 NaN\n",
       "20091                          TRUCK CLMT\n",
       "20092                                 NaN\n",
       "20093                                 NaN\n",
       "Name: DESCR2, Length: 20094, dtype: object"
      ]
     },
     "execution_count": 6,
     "metadata": {},
     "output_type": "execute_result"
    }
   ],
   "source": [
    "df1.iloc[:,14]"
   ]
  },
  {
   "cell_type": "code",
   "execution_count": 7,
   "metadata": {},
   "outputs": [
    {
     "data": {
      "text/plain": [
       "dtype('O')"
      ]
     },
     "execution_count": 7,
     "metadata": {},
     "output_type": "execute_result"
    }
   ],
   "source": [
    "df1['DRIVERAGE'].dtype"
   ]
  },
  {
   "cell_type": "code",
   "execution_count": 8,
   "metadata": {},
   "outputs": [],
   "source": [
    "def label(df):\n",
    "    #print(df.isnull().sum())\n",
    "    df.fillna(0)\n",
    "    X = df.iloc[:,0:len(df.iloc[0])].values\n",
    "    for i in range(len(df.iloc[0])):\n",
    "       # print(i, end='  ')\n",
    "        labelencoder_X_1 = LabelEncoder()\n",
    "        X[:, i] = labelencoder_X_1.fit_transform(X[:, i])\n",
    "        #print(i)\n",
    "    X=X.astype(np.float)\n",
    "    d1=pd.DataFrame(X)\n",
    "    return d1"
   ]
  },
  {
   "cell_type": "code",
   "execution_count": 9,
   "metadata": {},
   "outputs": [],
   "source": [
    "def fillN(df):\n",
    "    l=len(df.iloc[0])-1\n",
    "    for i in range(l):\n",
    "        #print(i)\n",
    "        if(df1.isnull().sum()[i]>0):\n",
    "            t=df.dtypes[i]\n",
    "            for j in range(len(df)):\n",
    "                value=df.iloc[j,i]\n",
    "                \n",
    "                if(t=='O'):\n",
    "                    #if(i==14):\n",
    "                     #   print(value, end=' ')\n",
    "                    if(type(value)==str):\n",
    "                        if(value.strip()==''):\n",
    "                            df.iloc[j,i]='Unknown'\n",
    "                    elif(math.isnan(value)):\n",
    "                            df.iloc[j,i]='Unknown'\n",
    "                    #if(i==14) : print(df.iloc[j,i])\n",
    "                else:\n",
    "                    if(math.isnan(value)):\n",
    "                        df.iloc[j,i]=0\n",
    "            #print('\\n')\n",
    "    return df"
   ]
  },
  {
   "cell_type": "code",
   "execution_count": 11,
   "metadata": {},
   "outputs": [],
   "source": [
    "df1=fillN(df1)"
   ]
  },
  {
   "cell_type": "code",
   "execution_count": 12,
   "metadata": {},
   "outputs": [],
   "source": [
    "df1=label(df1)"
   ]
  },
  {
   "cell_type": "code",
   "execution_count": 15,
   "metadata": {},
   "outputs": [],
   "source": [
    "X = df1.iloc[0:,1:53]\n",
    "y= df1.iloc[0:,56]"
   ]
  },
  {
   "cell_type": "code",
   "execution_count": 16,
   "metadata": {},
   "outputs": [],
   "source": [
    "def createNewY(y_test):\n",
    "    newy=[]\n",
    "    # 0, 10, 100, 1000, 10000, 100000, 1000000, 10000000\n",
    "    for i in y_test:\n",
    "        if(i<10):\n",
    "            newy.append([1,0,0,0,0,0,0,0])\n",
    "        elif(i>=10 and i<100):\n",
    "            newy.append([0,1,0,0,0,0,0,0])\n",
    "        elif(i>=100 and i<1000):\n",
    "            newy.append([0,0,1,0,0,0,0,0])\n",
    "        elif(i>=1000 and i<10000):\n",
    "            newy.append([0,0,0,1,0,0,0,0])\n",
    "        elif(i>=10000 and i<100000):\n",
    "            newy.append([0,0,0,0,1,0,0,0])\n",
    "        elif(i>=100000 and i<1000000):\n",
    "            newy.append([0,0,0,0,0,1,0,0])\n",
    "        elif(i>=1000000 and i<10000000):\n",
    "            newy.append([0,0,0,0,0,0,1,0])\n",
    "        elif(i>=10000000):\n",
    "            newy.append([0,0,0,0,0,0,0,1])\n",
    "    return newy\n",
    "def createNewY1(y_test):\n",
    "    newy=[]\n",
    "    # 0, 10, 100, 1000, 10000, 100000, 1000000, 10000000\n",
    "    for i in y_test:\n",
    "        if(i<10):\n",
    "            newy.append(0)\n",
    "        elif(i>=10 and i<100):\n",
    "            newy.append(1)\n",
    "        elif(i>=100 and i<1000):\n",
    "            newy.append(2)\n",
    "        elif(i>=1000 and i<10000):\n",
    "            newy.append(3)\n",
    "        elif(i>=10000 and i<100000):\n",
    "            newy.append(4)\n",
    "        elif(i>=100000 and i<1000000):\n",
    "            newy.append(5)\n",
    "        elif(i>=1000000 and i<10000000):\n",
    "            newy.append(6)\n",
    "        elif(i>=10000000):\n",
    "            newy.append(7)\n",
    "    return newy"
   ]
  },
  {
   "cell_type": "markdown",
   "metadata": {},
   "source": [
    "# with Yorkpaid"
   ]
  },
  {
   "cell_type": "code",
   "execution_count": 17,
   "metadata": {},
   "outputs": [
    {
     "data": {
      "text/plain": [
       "array([0, 1, 0, 0, 0, 0, 0, 0])"
      ]
     },
     "execution_count": 17,
     "metadata": {},
     "output_type": "execute_result"
    }
   ],
   "source": [
    "newy=createNewY(y)\n",
    "newy=np.asarray(newy)\n",
    "X_train, X_test, y_train, y_test = train_test_split(X, newy, test_size = 0.2)\n",
    "y_train[0]"
   ]
  },
  {
   "cell_type": "code",
   "execution_count": 18,
   "metadata": {},
   "outputs": [
    {
     "name": "stdout",
     "output_type": "stream",
     "text": [
      "Epoch 1/30\n",
      "16075/16075 [==============================] - 1s 39us/step - loss: 1.3343 - acc: 0.8362\n",
      "Epoch 2/30\n",
      "16075/16075 [==============================] - 0s 14us/step - loss: 0.2570 - acc: 0.8755\n",
      "Epoch 3/30\n",
      "16075/16075 [==============================] - 0s 15us/step - loss: 0.2041 - acc: 0.8778\n",
      "Epoch 4/30\n",
      "16075/16075 [==============================] - 0s 12us/step - loss: 0.1870 - acc: 0.9160\n",
      "Epoch 5/30\n",
      "16075/16075 [==============================] - 0s 12us/step - loss: 0.1813 - acc: 0.9261\n",
      "Epoch 6/30\n",
      "16075/16075 [==============================] - 0s 12us/step - loss: 0.1804 - acc: 0.9268\n",
      "Epoch 7/30\n",
      "16075/16075 [==============================] - 0s 11us/step - loss: 0.1802 - acc: 0.9271\n",
      "Epoch 8/30\n",
      "16075/16075 [==============================] - 0s 11us/step - loss: 0.1799 - acc: 0.9273\n",
      "Epoch 9/30\n",
      "16075/16075 [==============================] - 0s 12us/step - loss: 0.1799 - acc: 0.9274\n",
      "Epoch 10/30\n",
      "16075/16075 [==============================] - 0s 12us/step - loss: 0.1798 - acc: 0.9274\n",
      "Epoch 11/30\n",
      "16075/16075 [==============================] - 0s 12us/step - loss: 0.1796 - acc: 0.9273\n",
      "Epoch 12/30\n",
      "16075/16075 [==============================] - 0s 12us/step - loss: 0.1797 - acc: 0.9274\n",
      "Epoch 13/30\n",
      "16075/16075 [==============================] - 0s 14us/step - loss: 0.1795 - acc: 0.9274\n",
      "Epoch 14/30\n",
      "16075/16075 [==============================] - 0s 13us/step - loss: 0.1797 - acc: 0.9274\n",
      "Epoch 15/30\n",
      "16075/16075 [==============================] - ETA: 0s - loss: 0.1793 - acc: 0.927 - 0s 12us/step - loss: 0.1793 - acc: 0.9275\n",
      "Epoch 16/30\n",
      "16075/16075 [==============================] - 0s 13us/step - loss: 0.1793 - acc: 0.9275\n",
      "Epoch 17/30\n",
      "16075/16075 [==============================] - 0s 14us/step - loss: 0.1793 - acc: 0.9275\n",
      "Epoch 18/30\n",
      "16075/16075 [==============================] - 0s 12us/step - loss: 0.1793 - acc: 0.9275\n",
      "Epoch 19/30\n",
      "16075/16075 [==============================] - 0s 12us/step - loss: 0.1794 - acc: 0.9274\n",
      "Epoch 20/30\n",
      "16075/16075 [==============================] - 0s 12us/step - loss: 0.1790 - acc: 0.9275\n",
      "Epoch 21/30\n",
      "16075/16075 [==============================] - 0s 12us/step - loss: 0.1797 - acc: 0.9273\n",
      "Epoch 22/30\n",
      "16075/16075 [==============================] - 0s 14us/step - loss: 0.1788 - acc: 0.9275\n",
      "Epoch 23/30\n",
      "16075/16075 [==============================] - 0s 13us/step - loss: 0.1788 - acc: 0.9275\n",
      "Epoch 24/30\n",
      "16075/16075 [==============================] - 0s 12us/step - loss: 0.1786 - acc: 0.9275\n",
      "Epoch 25/30\n",
      "16075/16075 [==============================] - 0s 12us/step - loss: 0.1787 - acc: 0.9275\n",
      "Epoch 26/30\n",
      "16075/16075 [==============================] - 0s 13us/step - loss: 0.1786 - acc: 0.9275\n",
      "Epoch 27/30\n",
      "16075/16075 [==============================] - 0s 13us/step - loss: 0.1786 - acc: 0.9275\n",
      "Epoch 28/30\n",
      "16075/16075 [==============================] - 0s 13us/step - loss: 0.1787 - acc: 0.9275\n",
      "Epoch 29/30\n",
      "16075/16075 [==============================] - 0s 13us/step - loss: 0.1786 - acc: 0.9275\n",
      "Epoch 30/30\n",
      "16075/16075 [==============================] - 0s 14us/step - loss: 0.1785 - acc: 0.9275\n"
     ]
    },
    {
     "data": {
      "text/plain": [
       "<keras.callbacks.History at 0x23d8a6eacf8>"
      ]
     },
     "execution_count": 18,
     "metadata": {},
     "output_type": "execute_result"
    }
   ],
   "source": [
    "classifier = Sequential()\n",
    "# Adding the input layer and the first hidden layer\n",
    "classifier.add(Dense(activation=\"relu\", input_dim=X_train.shape[1], units=6, kernel_initializer=\"uniform\"))\n",
    "# Adding the second hidden layer\n",
    "classifier.add(Dropout(0.2))\n",
    "classifier.add(Dense(activation=\"relu\", units=10, kernel_initializer=\"uniform\"))\n",
    "# Adding the output layer\n",
    "classifier.add(Dropout(0.2))\n",
    "classifier.add(Dense(activation=\"relu\", units=8, kernel_initializer=\"uniform\"))\n",
    "classifier.compile(optimizer = 'adam', loss = 'binary_crossentropy', metrics = ['accuracy'])\n",
    "classifier.fit(X_train, y_train, batch_size = 100, epochs = 30)"
   ]
  },
  {
   "cell_type": "code",
   "execution_count": 19,
   "metadata": {},
   "outputs": [
    {
     "name": "stdout",
     "output_type": "stream",
     "text": [
      "4019/4019 [==============================] - 0s 11us/step\n"
     ]
    },
    {
     "data": {
      "text/plain": [
       "[0.18152162001467545, 0.9247325090485208]"
      ]
     },
     "execution_count": 19,
     "metadata": {},
     "output_type": "execute_result"
    }
   ],
   "source": [
    "y_pred=classifier.predict(X_test)\n",
    "y_pred\n",
    "score = classifier.evaluate(X_test, y_test, batch_size=2000)\n",
    "score"
   ]
  },
  {
   "cell_type": "code",
   "execution_count": 22,
   "metadata": {},
   "outputs": [],
   "source": [
    "def accuracy2(y_pred,y_test):\n",
    "    l=len(y_pred)\n",
    "    count=0\n",
    "    for i in range(l):\n",
    "        m=max(y_pred[i])\n",
    "       # print(m)\n",
    "        index= np.where(y_pred[i]==m)\n",
    "        #print(index)\n",
    "        one = np.where(y_test[i]==1)\n",
    "        #print(one)\n",
    "        if(one[0]==index[0]):\n",
    "            count+=1\n",
    "       # elif(one[0]==(index[0]-1) or one[0]==(index[0]+1)):\n",
    "        #    count+=0.5\n",
    "    return count/l*100"
   ]
  },
  {
   "cell_type": "code",
   "execution_count": 23,
   "metadata": {},
   "outputs": [
    {
     "data": {
      "text/plain": [
       "69.89300821099776"
      ]
     },
     "execution_count": 23,
     "metadata": {},
     "output_type": "execute_result"
    }
   ],
   "source": [
    "accuracy2(y_pred,y_test)"
   ]
  },
  {
   "cell_type": "markdown",
   "metadata": {},
   "source": [
    "# with Incurred amount"
   ]
  },
  {
   "cell_type": "code",
   "execution_count": 30,
   "metadata": {},
   "outputs": [
    {
     "name": "stdout",
     "output_type": "stream",
     "text": [
      "Epoch 1/30\n",
      "16075/16075 [==============================] - 1s 35us/step - loss: 0.8087 - acc: 0.8572\n",
      "Epoch 2/30\n",
      "16075/16075 [==============================] - 0s 13us/step - loss: 0.3309 - acc: 0.8715\n",
      "Epoch 3/30\n",
      "16075/16075 [==============================] - ETA: 0s - loss: 0.2987 - acc: 0.874 - 0s 13us/step - loss: 0.2965 - acc: 0.8746\n",
      "Epoch 4/30\n",
      "16075/16075 [==============================] - 0s 12us/step - loss: 0.2874 - acc: 0.8755\n",
      "Epoch 5/30\n",
      "16075/16075 [==============================] - 0s 12us/step - loss: 0.2866 - acc: 0.8766\n",
      "Epoch 6/30\n",
      "16075/16075 [==============================] - 0s 12us/step - loss: 0.2862 - acc: 0.8755\n",
      "Epoch 7/30\n",
      "16075/16075 [==============================] - 0s 14us/step - loss: 0.2859 - acc: 0.8762\n",
      "Epoch 8/30\n",
      "16075/16075 [==============================] - 0s 16us/step - loss: 0.2858 - acc: 0.8749\n",
      "Epoch 9/30\n",
      "16075/16075 [==============================] - 0s 13us/step - loss: 0.2857 - acc: 0.8753\n",
      "Epoch 10/30\n",
      "16075/16075 [==============================] - 0s 13us/step - loss: 0.2857 - acc: 0.8745\n",
      "Epoch 11/30\n",
      "16075/16075 [==============================] - 0s 14us/step - loss: 0.2855 - acc: 0.8755\n",
      "Epoch 12/30\n",
      "16075/16075 [==============================] - 0s 13us/step - loss: 0.2852 - acc: 0.8758\n",
      "Epoch 13/30\n",
      "16075/16075 [==============================] - 0s 13us/step - loss: 0.2851 - acc: 0.8758\n",
      "Epoch 14/30\n",
      "16075/16075 [==============================] - 0s 13us/step - loss: 0.2852 - acc: 0.8753\n",
      "Epoch 15/30\n",
      "16075/16075 [==============================] - 0s 14us/step - loss: 0.2849 - acc: 0.8751\n",
      "Epoch 16/30\n",
      "16075/16075 [==============================] - 0s 14us/step - loss: 0.2848 - acc: 0.8748\n",
      "Epoch 17/30\n",
      "16075/16075 [==============================] - 0s 15us/step - loss: 0.2846 - acc: 0.8759\n",
      "Epoch 18/30\n",
      "16075/16075 [==============================] - 0s 14us/step - loss: 0.2844 - acc: 0.8760\n",
      "Epoch 19/30\n",
      "16075/16075 [==============================] - 0s 14us/step - loss: 0.2843 - acc: 0.8765\n",
      "Epoch 20/30\n",
      "16075/16075 [==============================] - 0s 14us/step - loss: 0.2843 - acc: 0.8757\n",
      "Epoch 21/30\n",
      "16075/16075 [==============================] - 0s 14us/step - loss: 0.2842 - acc: 0.8752\n",
      "Epoch 22/30\n",
      "16075/16075 [==============================] - 0s 14us/step - loss: 0.2840 - acc: 0.8763\n",
      "Epoch 23/30\n",
      "16075/16075 [==============================] - 0s 13us/step - loss: 0.2838 - acc: 0.8765\n",
      "Epoch 24/30\n",
      "16075/16075 [==============================] - 0s 13us/step - loss: 0.2838 - acc: 0.8758\n",
      "Epoch 25/30\n",
      "16075/16075 [==============================] - 0s 14us/step - loss: 0.2839 - acc: 0.8749\n",
      "Epoch 26/30\n",
      "16075/16075 [==============================] - 0s 14us/step - loss: 0.2836 - acc: 0.8756\n",
      "Epoch 27/30\n",
      "16075/16075 [==============================] - 0s 13us/step - loss: 0.2835 - acc: 0.8766\n",
      "Epoch 28/30\n",
      "16075/16075 [==============================] - 0s 13us/step - loss: 0.2835 - acc: 0.8755\n",
      "Epoch 29/30\n",
      "16075/16075 [==============================] - 0s 13us/step - loss: 0.2834 - acc: 0.8760\n",
      "Epoch 30/30\n",
      "16075/16075 [==============================] - 0s 13us/step - loss: 0.2833 - acc: 0.8755\n"
     ]
    }
   ],
   "source": [
    "y= df1.iloc[0:,59]\n",
    "newy=createNewY(y)\n",
    "newy=np.asarray(newy)\n",
    "X_train, X_test, y_train, y_test = train_test_split(X, newy, test_size = 0.2)\n",
    "y_train[0]\n",
    "classifier = Sequential()\n",
    "# Adding the input layer and the first hidden layer\n",
    "classifier.add(Dense(activation=\"relu\", input_dim=X_train.shape[1], units=6, kernel_initializer=\"uniform\"))\n",
    "# Adding the second hidden layer\n",
    "classifier.add(Dropout(0.2))\n",
    "classifier.add(Dense(activation=\"relu\", units=10, kernel_initializer=\"uniform\"))\n",
    "# Adding the output layer\n",
    "classifier.add(Dropout(0.2))\n",
    "classifier.add(Dense(activation=\"relu\", units=8, kernel_initializer=\"uniform\"))\n",
    "classifier.compile(optimizer = 'adam', loss = 'binary_crossentropy', metrics = ['accuracy'])\n",
    "classifier.fit(X_train, y_train, batch_size = 100, epochs = 30)\n",
    "y_pred=classifier.predict(X_test)"
   ]
  },
  {
   "cell_type": "code",
   "execution_count": 31,
   "metadata": {},
   "outputs": [
    {
     "name": "stdout",
     "output_type": "stream",
     "text": [
      "4019/4019 [==============================] - 0s 24us/step\n"
     ]
    },
    {
     "data": {
      "text/plain": [
       "[0.28647895469894513, 0.8750932933412757]"
      ]
     },
     "execution_count": 31,
     "metadata": {},
     "output_type": "execute_result"
    }
   ],
   "source": [
    "score = classifier.evaluate(X_test, y_test, batch_size=2000)\n",
    "score"
   ]
  },
  {
   "cell_type": "code",
   "execution_count": null,
   "metadata": {},
   "outputs": [],
   "source": []
  }
 ],
 "metadata": {
  "kernelspec": {
   "display_name": "Python 3",
   "language": "python",
   "name": "python3"
  },
  "language_info": {
   "codemirror_mode": {
    "name": "ipython",
    "version": 3
   },
   "file_extension": ".py",
   "mimetype": "text/x-python",
   "name": "python",
   "nbconvert_exporter": "python",
   "pygments_lexer": "ipython3",
   "version": "3.6.4"
  }
 },
 "nbformat": 4,
 "nbformat_minor": 2
}
